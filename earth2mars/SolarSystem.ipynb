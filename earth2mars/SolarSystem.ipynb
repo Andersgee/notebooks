{
 "cells": [
  {
   "cell_type": "markdown",
   "metadata": {},
   "source": [
    "# Planetary Motion\n",
    "\n",
    "This little simulation was inspired by hearing that if we want to travel to mars, there is a special window every 2 years or so that makes it easier. So I wanted to understand why that is.\n",
    "\n",
    "All that is needed to simulate how the planets move around the sun are the masses and positions/velocities at any given point in time. Then Newton's Law of Universal Gravitation takes care of the rest.\n",
    "\n",
    "Estimates of planet data is available at [NASA](https://nssdc.gsfc.nasa.gov/planetary/planetfact.html).\n",
    "\n",
    "For someone not fluent in Astronomy it can be quite tricky to interpret those fact sheets. Atleast 'mass' is there in plain text. I decided to use the following variables to construct a position and velocity of all planets at a specific point in time.\n",
    "\n",
    "1. Mass\n",
    "2. Perihelion\n",
    "3. MaxVelocity\n",
    "4. Orbital inclination\n",
    "5. Longitude of ascending node\n",
    "6. Longitude of perihelion\n",
    "\n",
    "(Longitude of perihelion is actually a sum of two different angles that point in different directions! It is really the 'argument of periapsis' I want which is equal to Longitude of perihelion minus Longitude of ascending node)"
   ]
  },
  {
   "cell_type": "code",
   "execution_count": 128,
   "metadata": {
    "collapsed": false
   },
   "outputs": [],
   "source": [
    "m = [1.9885e30, 0.33011e24, 4.8675e24, 5.9724e24, 0.64171e24, 1898.19e24, 568.34e24, 86.813e24, 102.413e24]\n",
    "peri = [0, 46.00e9, 107.48e9, 147.09e9, 206.62e9, 740.52e9, 1352.55e9, 2741.30e9, 4444.45e9]\n",
    "vp    = [0, 58.98e3, 35.26e3, 30.29e3, 26.50e3, 13.72e3, 10.18e3, 7.11e3, 5.50e3]\n",
    "incl = π/180*[0, 7.00487, 3.39471, 0.00005, 1.85061, 1.30530, 2.48446, 0.76986, 1.76917]\n",
    "loan = π/180*[0, 48.33167, 76.68069, -11.26064, 49.57854, 100.55615, 113.71504, 74.22988, 131.72169]\n",
    "lop  = π/180*[0, 77.45645, 131.53298, 102.94719, 336.04084, 14.75385, 92.43194, 170.96424, 44.97135];"
   ]
  },
  {
   "cell_type": "code",
   "execution_count": 129,
   "metadata": {
    "collapsed": false
   },
   "outputs": [
    {
     "data": {
      "text/plain": [
       "angles2rotm (generic function with 1 method)"
      ]
     },
     "execution_count": 129,
     "metadata": {},
     "output_type": "execute_result"
    }
   ],
   "source": [
    "function angles2rotm(a, b, c)\n",
    "    #Euler_angle_transformations\n",
    "    #a=Longitude of ascending node, b=Inclination, c=Argument of periapsis\n",
    "    R=zeros(3,3)\n",
    "    R[:,1] = [cos(a)*cos(c) - sin(a)*cos(b)*sin(c), -cos(a)*sin(c) - sin(a)*cos(b)*cos(c), sin(b)*sin(a)]\n",
    "    R[:,2] = [sin(a)*cos(c) + cos(a)*cos(b)*sin(c), -sin(a)*sin(c) + cos(a)*cos(b)*cos(c), -sin(b)*cos(a)]\n",
    "    R[:,3] = [sin(b)*sin(c), sin(b)*cos(c), cos(b)]\n",
    "    return R\n",
    "end"
   ]
  },
  {
   "cell_type": "code",
   "execution_count": 130,
   "metadata": {
    "collapsed": true
   },
   "outputs": [],
   "source": [
    "#make position/velocity vectors by rotating perihelion position/velocity in 3d\n",
    "function place_planets(peri, vp, loan, incl, lop)\n",
    "    p = zeros(9,3)\n",
    "    v = zeros(9,3)\n",
    "    for n=1:9\n",
    "        R=angles2rotm(loan[n], incl[n], lop[n]-loan[n])\n",
    "        p[n,:] = R*[peri[n],0,0]\n",
    "        v[n,:] = R*[0,vp[n],0]\n",
    "    end\n",
    "    return p,v\n",
    "end"
   ]
  },
  {
   "cell_type": "code",
   "execution_count": 131,
   "metadata": {
    "collapsed": false
   },
   "outputs": [
    {
     "data": {
      "text/plain": [
       "Force (generic function with 1 method)"
      ]
     },
     "execution_count": 131,
     "metadata": {},
     "output_type": "execute_result"
    }
   ],
   "source": [
    "function Force(m, p, b, a)\n",
    "    #forcevector felt on b from a as function of their mass and position\n",
    "    G = 6.674e-11 #gravitational constant\n",
    "    d = p[b,:]-p[a,:]\n",
    "    return -d .* G*m[a]*m[b]*(d'*d)^(-3/2)\n",
    "end"
   ]
  },
  {
   "cell_type": "code",
   "execution_count": 132,
   "metadata": {
    "collapsed": false
   },
   "outputs": [
    {
     "data": {
      "text/plain": [
       "Plots.GRBackend()"
      ]
     },
     "execution_count": 132,
     "metadata": {},
     "output_type": "execute_result"
    }
   ],
   "source": [
    "using Plots\n",
    "#gr(size=(800,600))\n",
    "gr()"
   ]
  },
  {
   "cell_type": "code",
   "execution_count": null,
   "metadata": {
    "collapsed": false
   },
   "outputs": [],
   "source": [
    "#position,velocity,mass\n",
    "function simulate_solar_system(p,v,m)\n",
    "    F = zeros(9,3)\n",
    "    Δt = 24*60*60\n",
    "    #simulationlength = 365*100 #total simulation length = simulationlength*Δt seconds\n",
    "    simulationlength = 365*30\n",
    "\n",
    "    ss=peri[5]*1.5 #size of plot\n",
    "    dist_earth_to_planet = zeros(simulationlength, 9)\n",
    "\n",
    "    @gif for t=1:simulationlength\n",
    "        # calculate forces, accelerations, velocities and update positions\n",
    "        for n=2:9; F[n,:] = Force(m, p, n, 1) end\n",
    "        a=F./m\n",
    "        v += a.*Δt\n",
    "        p += v.*Δt\n",
    "\n",
    "        for planet=1:9\n",
    "            dist_earth_to_planet[t, planet] = norm(p[planet,:]-p[4,:])/1e9\n",
    "        end\n",
    "\n",
    "        # visualize\n",
    "        if t%5==0\n",
    "            # plot the positions in 2d even though everyhing is in 3d because its easier to see\n",
    "            p1 = scatter(p[:,1],p[:,2], xlim=(-ss,ss), ylim=(-ss,ss), leg=false, xtick=false, ytick=false, title=\"Inner Solar System\", axis=false)\n",
    "            plot!(p1, [p[4,1];p[5,1]], [p[4,2];p[5,2]]) #add a line between earth and mars\n",
    "\n",
    "            # plot the earth-mars distance over time\n",
    "\n",
    "            p2 = plot(dist_earth_to_planet[1:t,5], ylim=(2e10/1e9, 5e11/1e9), title=\"Distance Earth-Mars (in million kilometers)\", xlab=\"days\")\n",
    "            plot(p1,p2, layout=grid(2,1,heights=[0.8,0.2]), leg=false)\n",
    "        end\n",
    "\n",
    "    end every 5\n",
    "    return dist_earth_to_planet\n",
    "end"
   ]
  },
  {
   "cell_type": "markdown",
   "metadata": {},
   "source": [
    "<img src=\"tmp.gif\">"
   ]
  },
  {
   "cell_type": "code",
   "execution_count": 143,
   "metadata": {
    "collapsed": false
   },
   "outputs": [
    {
     "data": {
      "text/plain": [
       "avgperiod (generic function with 1 method)"
      ]
     },
     "execution_count": 143,
     "metadata": {},
     "output_type": "execute_result"
    }
   ],
   "source": [
    "function avgperiod(e2p)\n",
    "    binaray_toward_away = e2p[2:end].>e2p[1:end-1]\n",
    "    index_of_minima = find(binaray_toward_away[2:end].>binaray_toward_away[1:end-1])\n",
    "    periods = index_of_minima[2:end].-index_of_minima[1:end-1]\n",
    "    avgperiod_in_days = mean(periods[2:end-1])\n",
    "    return avgperiod_in_days\n",
    "end"
   ]
  },
  {
   "cell_type": "code",
   "execution_count": 167,
   "metadata": {
    "collapsed": false
   },
   "outputs": [
    {
     "name": "stdout",
     "output_type": "stream",
     "text": [
      "average period of earth opposition with mars: 778 days\n"
     ]
    }
   ],
   "source": [
    "period = avgperiod(dist_earth_to_planet[:,5])\n",
    "println(\"average period of earth opposition with mars: \", Int(round(period)), \" days\")"
   ]
  },
  {
   "cell_type": "code",
   "execution_count": 166,
   "metadata": {
    "collapsed": false
   },
   "outputs": [
    {
     "name": "stdout",
     "output_type": "stream",
     "text": [
      "average period of earth opposition with venus: 585 days\n"
     ]
    }
   ],
   "source": [
    "period = avgperiod(dist_earth_to_planet[:,3])\n",
    "println(\"average period of earth opposition with venus: \", Int(round(period)), \" days\")"
   ]
  }
 ],
 "metadata": {
  "kernelspec": {
   "display_name": "Julia 0.6.0",
   "language": "julia",
   "name": "julia-0.6"
  },
  "language_info": {
   "file_extension": ".jl",
   "mimetype": "application/julia",
   "name": "julia",
   "version": "0.6.0"
  }
 },
 "nbformat": 4,
 "nbformat_minor": 2
}

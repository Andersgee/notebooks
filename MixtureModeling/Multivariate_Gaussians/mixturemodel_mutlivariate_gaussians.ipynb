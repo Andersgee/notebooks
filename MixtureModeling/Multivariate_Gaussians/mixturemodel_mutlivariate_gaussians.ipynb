{
 "cells": [
  {
   "cell_type": "markdown",
   "metadata": {},
   "source": [
    "<h1> 1. Multivariate Normal Mixture Model</h1>\n",
    "This notebook shows how the E(xpectation) M(aximization) algorithm for multivariate normal mixtures is implemented in code. One iteration of EM is simply:\n",
    "\n",
    "<code>m,μ,Σ = EM_normal(data, m,μ,Σ)</code>\n",
    "\n",
    "and is fully contained in the cell below. All other code in this notebook amounts to generating some random <code>data</code> to fit the model on, and visualizing the process."
   ]
  },
  {
   "cell_type": "code",
   "execution_count": 1,
   "metadata": {
    "collapsed": false
   },
   "outputs": [
    {
     "data": {
      "text/plain": [
       "EM_normal (generic function with 1 method)"
      ]
     },
     "execution_count": 1,
     "metadata": {},
     "output_type": "execute_result"
    }
   ],
   "source": [
    "pdf_normal(n,v,μ,Σ) = (2*π)^(-0.5*n) * det(Σ)^(-0.5) * exp(-0.5*(v-μ)'*inv(Σ)*(v-μ))\n",
    "\n",
    "function EM_normal(t, m,μ,Σ)\n",
    "    P = size(t,1); N = size(t,2); G = length(Σ)\n",
    "    \n",
    "    #E-step\n",
    "    r = zeros(N,G)\n",
    "    for g=1:G, n=1:N\n",
    "        r[n,g] = m[g]*pdf_normal(P,t[:,n],μ[:,g],Σ[g])\n",
    "    end\n",
    "    r = r./sum(r,2)\n",
    "    \n",
    "    #M-step\n",
    "    rsum1 = sum(r,1)\n",
    "    m = (rsum1/N)'\n",
    "    μ = (t*r)./rsum1\n",
    "    for g=1:G\n",
    "        Σ[g] = sum([r[n,g] * (t[:,n]-μ[:,g])*(t[:,n]-μ[:,g])' for n=1:N])./rsum1[g]\n",
    "    end\n",
    "    return m, μ, Σ\n",
    "end"
   ]
  },
  {
   "cell_type": "markdown",
   "metadata": {},
   "source": [
    "<h1> 2. Some functions for visualization</h1>\n",
    "These functions assume 2 dimensional data. All other code is general for P dimensional data."
   ]
  },
  {
   "cell_type": "code",
   "execution_count": 2,
   "metadata": {
    "collapsed": false
   },
   "outputs": [
    {
     "data": {
      "text/plain": [
       "some_2d_data (generic function with 1 method)"
      ]
     },
     "execution_count": 2,
     "metadata": {},
     "output_type": "execute_result"
    }
   ],
   "source": [
    "function T(Σ)\n",
    "    #make a tranformation matrix from Σ via eigenvectors/values\n",
    "    V,λ,iV = svd(Σ)\n",
    "    T = V*diagm(sqrt.(λ))\n",
    "    return T\n",
    "end\n",
    "\n",
    "function visualize(v,m,μ,Σ)\n",
    "    p = plot()\n",
    "    scatter!(p, v[1,:],v[2,:], title=string(\"proportions: \",round.(m,2)), lab=\"data\", color=:black)\n",
    "    \n",
    "    α = collect(0:0.1:2.1*π)\n",
    "    c=[cos.(α) sin.(α)]' #circle points\n",
    "    for g=1:length(Σ)\n",
    "        λellipse = T(Σ[g])*c .+ μ[:,g]\n",
    "        plot!(p, λellipse[1,:],λellipse[2,:], lab=string(\"g\",g), width=2)\n",
    "    end\n",
    "    plot(p)\n",
    "end\n",
    "\n",
    "function some_2d_data(N)\n",
    "    n=Int(N/4)\n",
    "    t1=[1 0.5; 0.5 1]*randn(2,n)*0.4.+[-1,-1]\n",
    "    t2=[1 -0.5; -0.5 1]*randn(2,n)*0.4.+[-1,+1]\n",
    "    t3=[1 0.25; 0.25 1]*randn(2,n)*0.4.+[+1,-1]\n",
    "    t4=[1 -0.25; -0.25 1]*randn(2,n)*0.4.+[+0.5,+0.5]\n",
    "    t=hcat(t1,t2,t3,t4)\n",
    "    return t\n",
    "end"
   ]
  },
  {
   "cell_type": "markdown",
   "metadata": {},
   "source": [
    "<h1> 3. Let EM algorithm optimize parameters of the mixture model"
   ]
  },
  {
   "cell_type": "code",
   "execution_count": 3,
   "metadata": {
    "collapsed": false,
    "scrolled": false
   },
   "outputs": [
    {
     "name": "stderr",
     "output_type": "stream",
     "text": [
      "\u001b[1m\u001b[36mINFO: \u001b[39m\u001b[22m\u001b[36mSaved animation to /home/andy/dev/githubnotebooks/MixtureModeling/Multivariate_Gaussians/tmp.gif\n",
      "\u001b[39m"
     ]
    },
    {
     "data": {
      "text/html": [
       "<img src=\"tmp.gif?0.05478426963181504>\" />"
      ],
      "text/plain": [
       "Plots.AnimatedGif(\"/home/andy/dev/githubnotebooks/MixtureModeling/Multivariate_Gaussians/tmp.gif\")"
      ]
     },
     "execution_count": 3,
     "metadata": {},
     "output_type": "execute_result"
    }
   ],
   "source": [
    "using Plots; gr(xlim=(-2,2), ylim=(-2,2), size=(600,600))\n",
    "\n",
    "t = some_2d_data(400)\n",
    "P=size(t,1) #dimensionality of data\n",
    "G=4 #nr of components to fit\n",
    "\n",
    "#initial mixture component parameters\n",
    "m=ones(G)/G\n",
    "μ=randn(P,G)*0.1\n",
    "Σ=[eye(P) for g=1:G]\n",
    "\n",
    "#optimize mixture component parameters\n",
    "@gif for ITER=1:100\n",
    "    m,μ,Σ = EM_normal(t, m,μ,Σ)\n",
    "    visualize(t,m,μ,Σ)\n",
    "end"
   ]
  },
  {
   "cell_type": "markdown",
   "metadata": {},
   "source": [
    "// Anders"
   ]
  }
 ],
 "metadata": {
  "kernelspec": {
   "display_name": "Julia 0.6.0",
   "language": "julia",
   "name": "julia-0.6"
  },
  "language_info": {
   "file_extension": ".jl",
   "mimetype": "application/julia",
   "name": "julia",
   "version": "0.6.0"
  }
 },
 "nbformat": 4,
 "nbformat_minor": 2
}

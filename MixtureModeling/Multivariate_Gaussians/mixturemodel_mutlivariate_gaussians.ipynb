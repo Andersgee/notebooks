{
 "cells": [
  {
   "cell_type": "markdown",
   "metadata": {},
   "source": [
    "<h1> Multivariate Normal Mixture Model"
   ]
  },
  {
   "cell_type": "code",
   "execution_count": 1,
   "metadata": {
    "collapsed": false
   },
   "outputs": [
    {
     "data": {
      "text/plain": [
       "plot_2d_data_and_components (generic function with 1 method)"
      ]
     },
     "execution_count": 1,
     "metadata": {},
     "output_type": "execute_result"
    }
   ],
   "source": [
    "pdf_normal(n,v,μ,Σ) = (2*π)^(-0.5*n) * det(Σ)^(-0.5) * exp(-0.5*(v-μ)'*inv(Σ)*(v-μ))\n",
    "\n",
    "function EM_normal(t, m,μ,Σ)\n",
    "    P = size(t,1)\n",
    "    N = size(t,2)\n",
    "    G = length(Σ)\n",
    "    τ = zeros(N,G)\n",
    "    for g=1:G, n=1:N; τ[n,g] = m[g]*pdf_normal(P,t[:,n],μ[:,g],Σ[g]); end\n",
    "    τ = τ./sum(τ,2)\n",
    "    \n",
    "    T1 = sum(τ,1)\n",
    "    T2 = t*τ\n",
    "    T3 = [sum([τ[n,g]*t[:,n]*t[:,n]' for n=1:N]) for g=1:G]\n",
    "    \n",
    "    m = T1./N\n",
    "    μ = T2./T1\n",
    "    Σ = [(T3[g] - 1/T1[g] * T2[:,g]*T2[:,g]')/T1[g] for g=1:G]\n",
    "    return m,μ,Σ\n",
    "end\n",
    "\n",
    "function some_data(N)\n",
    "    #some 2 dimensional data in 4 clusters\n",
    "    n=Int(N/4)\n",
    "    t1=[1 0.5; 0.5 1]*randn(2,n)*0.4.+[-1,-1]\n",
    "    t2=[1 -0.5; -0.5 1]*randn(2,n)*0.4.+[-1,+1]\n",
    "    t3=[1 0.25; 0.25 1]*randn(2,n)*0.4.+[+1,-1]\n",
    "    t4=[1 -0.25; -0.25 1]*randn(2,n)*0.4.+[+0.5,+0.5]\n",
    "    t=hcat(t1,t2,t3,t4)\n",
    "    return t\n",
    "end\n",
    "\n",
    "using Plots; gr(xlim=(-2,2), ylim=(-2,2), size=(600,600))\n",
    "\n",
    "function plot_2d_data_and_components(v,m,μ,Σ)\n",
    "    a=collect(0:0.1:2.1*π)\n",
    "    circle=vcat(cos.(a)',sin.(a)')\n",
    "    covplot=plot()\n",
    "    scatter!(covplot, v[1,:],v[2,:], title=string(\"proportions: \",round.(m,2)), lab=\"data\", color=:black)\n",
    "    pΣ = deepcopy(Σ) #plot with σ size instead of σ² size\n",
    "    for i=1:length(Σ) #component\n",
    "        pΣ[i][1,1]=sqrt(pΣ[i][1,1])\n",
    "        pΣ[i][2,2]=sqrt(pΣ[i][2,2])\n",
    "        cov=pΣ[i]*circle .+ μ[:,i]\n",
    "        plot!(covplot,cov[1,:],cov[2,:], lab=string(\"c\",i), width=2)\n",
    "    end\n",
    "    plot(covplot)\n",
    "end"
   ]
  },
  {
   "cell_type": "markdown",
   "metadata": {},
   "source": [
    "<h2> Visualize learning the mixture component parameters"
   ]
  },
  {
   "cell_type": "code",
   "execution_count": 2,
   "metadata": {
    "collapsed": false,
    "scrolled": false
   },
   "outputs": [
    {
     "name": "stderr",
     "output_type": "stream",
     "text": [
      "\u001b[1m\u001b[36mINFO: \u001b[39m\u001b[22m\u001b[36mSaved animation to /home/andy/dev/githubnotebooks/MixtureModeling/Multivariate_Gaussians/tmp.gif\n",
      "\u001b[39m"
     ]
    },
    {
     "data": {
      "text/html": [
       "<img src=\"tmp.gif?0.20424056140847857>\" />"
      ],
      "text/plain": [
       "Plots.AnimatedGif(\"/home/andy/dev/githubnotebooks/MixtureModeling/Multivariate_Gaussians/tmp.gif\")"
      ]
     },
     "execution_count": 2,
     "metadata": {},
     "output_type": "execute_result"
    }
   ],
   "source": [
    "using Plots; gr(xlim=(-2,2), ylim=(-2,2), size=(600,600))\n",
    "\n",
    "P=2 #dimensionality of data\n",
    "t = some_data(4*50)\n",
    "\n",
    "G=4 #nr of components\n",
    "m=ones(G)/G\n",
    "μ=randn(P,G)\n",
    "Σ=[eye(P) for g=1:G]\n",
    "\n",
    "@gif for ITER=1:100\n",
    "    m,μ,Σ = EM_normal(t, m,μ,Σ)\n",
    "    plot_2d_data_and_components(t,m,μ,Σ)\n",
    "end"
   ]
  },
  {
   "cell_type": "markdown",
   "metadata": {},
   "source": [
    "// Anders"
   ]
  }
 ],
 "metadata": {
  "kernelspec": {
   "display_name": "Julia 0.6.0",
   "language": "julia",
   "name": "julia-0.6"
  },
  "language_info": {
   "file_extension": ".jl",
   "mimetype": "application/julia",
   "name": "julia",
   "version": "0.6.0"
  }
 },
 "nbformat": 4,
 "nbformat_minor": 2
}

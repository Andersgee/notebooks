{
 "cells": [
  {
   "cell_type": "markdown",
   "metadata": {},
   "source": [
    "<h1> Multivariate Normal Mixture Model"
   ]
  },
  {
   "cell_type": "code",
   "execution_count": 1,
   "metadata": {
    "collapsed": false
   },
   "outputs": [
    {
     "data": {
      "text/plain": [
       "plot_2d_data_and_components (generic function with 1 method)"
      ]
     },
     "execution_count": 1,
     "metadata": {},
     "output_type": "execute_result"
    }
   ],
   "source": [
    "ϕ(n,v,μ,Σ) = (2*π)^(-0.5*n) * det(Σ)^(-0.5) * exp(-0.5*(v-μ)'*inv(Σ)*(v-μ))\n",
    "\n",
    "function EM(v, m,μ,Σ)\n",
    "    #EM algorithm for multivariate normal mixture model with g mixture components\n",
    "    #as described in Finite Mixture Models, p.82 (Geoffrey McLachlan & David Peel, 2000)\n",
    "\n",
    "    n = size(v,2)\n",
    "    g = length(Σ)\n",
    "    τ = zeros(n,g)\n",
    "    for i=1:g, j=1:n; τ[j,i] = m[i]*ϕ(n,v[:,j],μ[:,i],Σ[i]); end\n",
    "    τ = τ./sum(τ,2)\n",
    "    \n",
    "    T1 = sum(τ,1)\n",
    "    T2 = v*τ\n",
    "    T3 = [sum([τ[j,i]*v[:,j]*v[:,j]' for j=1:n]) for i=1:g]\n",
    "    \n",
    "    m = T1./n\n",
    "    μ = T2./T1\n",
    "    Σ = [(T3[i] - 1/T1[i] * T2[:,i]*T2[:,i]')/T1[i] for i=1:g]\n",
    "    return m,μ,Σ\n",
    "end\n",
    "\n",
    "function some_data()\n",
    "    #some 2 dimensional data in 4 clusters\n",
    "    v1=[1 0.5; 0.5 1]*randn(2,50)*0.4.+[-1,-1]\n",
    "    v2=[1 -0.5; -0.5 1]*randn(2,50)*0.4.+[-1,+1]\n",
    "    v3=[1 0.25; 0.25 1]*randn(2,50)*0.4.+[+1,-1]\n",
    "    v4=[1 -0.25; -0.25 1]*randn(2,50)*0.4.+[+0.5,+0.5]\n",
    "    v=hcat(v1,v2,v3,v4);\n",
    "    return v\n",
    "end\n",
    "\n",
    "function plot_2d_data_and_components(v,m,μ,Σ)\n",
    "    a=collect(0:0.1:2.1*π)\n",
    "    circle=vcat(cos.(a)',sin.(a)')\n",
    "    covplot=plot()\n",
    "    pΣ = deepcopy(Σ) #plot with σ size instead of σ² size\n",
    "    for i=1:length(Σ) #component\n",
    "        pΣ[i][1,1]=sqrt(pΣ[i][1,1])\n",
    "        pΣ[i][2,2]=sqrt(pΣ[i][2,2])\n",
    "        cov=pΣ[i]*circle .+ μ[:,i]\n",
    "        plot!(covplot,cov[1,:],cov[2,:], lab=string(\"c\",i), width=2)\n",
    "    end\n",
    "    plot(covplot)\n",
    "    scatter!(v[1,:],v[2,:], title=string(\"proportions: \",round.(m,2)), lab=\"data\", color=:black)\n",
    "end"
   ]
  },
  {
   "cell_type": "markdown",
   "metadata": {},
   "source": [
    "<h2> Visualize learning the mixture component parameters"
   ]
  },
  {
   "cell_type": "code",
   "execution_count": 2,
   "metadata": {
    "collapsed": false,
    "scrolled": false
   },
   "outputs": [
    {
     "name": "stderr",
     "output_type": "stream",
     "text": [
      "\u001b[1m\u001b[36mINFO: \u001b[39m\u001b[22m\u001b[36mSaved animation to /home/andy/dev/githubnotebooks/MixtureModeling/Multivariate_Gaussians/tmp.gif\n",
      "\u001b[39m"
     ]
    },
    {
     "data": {
      "text/html": [
       "<img src=\"tmp.gif?0.5595305841401461>\" />"
      ],
      "text/plain": [
       "Plots.AnimatedGif(\"/home/andy/dev/githubnotebooks/MixtureModeling/Multivariate_Gaussians/tmp.gif\")"
      ]
     },
     "execution_count": 2,
     "metadata": {},
     "output_type": "execute_result"
    }
   ],
   "source": [
    "using Plots; gr(xlim=(-2,2), ylim=(-2,2), size=(600,600))\n",
    "\n",
    "p=2 #dimensionality of data\n",
    "t = some_data()\n",
    "\n",
    "g=4 #nr of components\n",
    "m=ones(g)/g\n",
    "μ=randn(p,g)\n",
    "Σ=[eye(p) for i=1:g]\n",
    "\n",
    "@gif for ITER=1:100\n",
    "    m,μ,Σ = EM(t, m,μ,Σ)\n",
    "    plot_2d_data_and_components(t,m,μ,Σ)\n",
    "end"
   ]
  },
  {
   "cell_type": "markdown",
   "metadata": {},
   "source": [
    "// Anders"
   ]
  }
 ],
 "metadata": {
  "kernelspec": {
   "display_name": "Julia 0.6.0",
   "language": "julia",
   "name": "julia-0.6"
  },
  "language_info": {
   "file_extension": ".jl",
   "mimetype": "application/julia",
   "name": "julia",
   "version": "0.6.0"
  }
 },
 "nbformat": 4,
 "nbformat_minor": 2
}

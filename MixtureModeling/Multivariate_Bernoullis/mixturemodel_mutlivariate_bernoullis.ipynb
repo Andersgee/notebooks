{
 "cells": [
  {
   "cell_type": "code",
   "execution_count": 1,
   "metadata": {
    "collapsed": false
   },
   "outputs": [
    {
     "data": {
      "text/plain": [
       "some_data (generic function with 1 method)"
      ]
     },
     "execution_count": 1,
     "metadata": {},
     "output_type": "execute_result"
    }
   ],
   "source": [
    "pdf_bernoulli(p,t) = p^t * (1-p)^(1-t)\n",
    "\n",
    "function EM_bernoulli(t, m,μ)\n",
    "    P=size(t,1)\n",
    "    N=size(t,2)\n",
    "    G=length(m)\n",
    "    \n",
    "    τ=zeros(N,G)\n",
    "    for g=1:G, n=1:N; τ[n,g] = m[g] * prod([pdf_bernoulli(μ[p,g], t[p,n]) for p=1:P]); end\n",
    "    τ = τ./sum(τ,2)\n",
    "\n",
    "    T1=sum(τ,1)\n",
    "    T2 = t*τ\n",
    "    m = (T1./N)'\n",
    "    μ = T2./T1\n",
    "    return m,μ\n",
    "end\n",
    "\n",
    "function some_data(P,N)\n",
    "    n=Int(N/6)\n",
    "    \n",
    "    t1=[1,1,0,0,0] * ones(n)'\n",
    "    t2=[0,0,1,1,0] * ones(n)'\n",
    "    \n",
    "    t3=[1,0,0,1,0] * ones(n)'\n",
    "    t4=[0,1,1,0,0] * ones(n)'\n",
    "    \n",
    "    t5=[1,1,1,0,1] * ones(n)'\n",
    "    t6=[0,0,1,1,1] * ones(n)'\n",
    "    \n",
    "    t=hcat(t1,t2,t3,t4,t5,t6)\n",
    "    return t\n",
    "end"
   ]
  },
  {
   "cell_type": "code",
   "execution_count": 2,
   "metadata": {
    "collapsed": false
   },
   "outputs": [
    {
     "name": "stdout",
     "output_type": "stream",
     "text": [
      "[0.17 0.17 0.21 0.17 0.17 0.13]\n"
     ]
    },
    {
     "data": {
      "text/plain": [
       "5×6 Array{Float64,2}:\n",
       " 1.0  1.0  0.0   1.0  0.0  0.0 \n",
       " 1.0  1.0  0.0   0.0  1.0  0.0 \n",
       " 0.0  1.0  1.0   0.0  1.0  1.0 \n",
       " 0.0  0.0  1.0   1.0  0.0  1.0 \n",
       " 0.0  1.0  0.58  0.0  0.0  0.36"
      ]
     },
     "execution_count": 2,
     "metadata": {},
     "output_type": "execute_result"
    }
   ],
   "source": [
    "G=6 #nr of components\n",
    "N=60 #nr of samples\n",
    "P=5 #dimensionality of data\n",
    "t=some_data(P,N)\n",
    "\n",
    "m=ones(G)/G\n",
    "μ=rand(P,G)\n",
    "for ITER=1:1000\n",
    "    m,μ = EM_bernoulli(t, m,μ)\n",
    "end\n",
    "\n",
    "#Component mixing proportions and component μ's\n",
    "println(round.(m',2))\n",
    "round.(μ,2)"
   ]
  },
  {
   "cell_type": "code",
   "execution_count": 3,
   "metadata": {
    "collapsed": false
   },
   "outputs": [
    {
     "data": {
      "text/plain": [
       "5×5 Array{Float64,2}:\n",
       "  0.25          0.0833333    -0.166667     -0.0833333    -2.77556e-17\n",
       "  0.0833333     0.25         -5.55112e-17  -0.25         -2.77556e-17\n",
       " -0.166667     -5.55112e-17   0.222222      5.55112e-17   0.111111   \n",
       " -0.0833333    -0.25          5.55112e-17   0.25          0.0        \n",
       " -2.77556e-17  -2.77556e-17   0.111111      0.0           0.222222   "
      ]
     },
     "execution_count": 3,
     "metadata": {},
     "output_type": "execute_result"
    }
   ],
   "source": [
    "#estimated expectation and covariance of data:\n",
    "E = sum(μ.*m',2) #real: mean(t,2)\n",
    "Σ = sum([m[g] * (diagm(μ[:,g].*(1-μ[:,g])) + μ[:,g]*μ[:,g]') for g=1:G]) - E*E' #real: cov(t')"
   ]
  }
 ],
 "metadata": {
  "kernelspec": {
   "display_name": "Julia 0.6.0",
   "language": "julia",
   "name": "julia-0.6"
  },
  "language_info": {
   "file_extension": ".jl",
   "mimetype": "application/julia",
   "name": "julia",
   "version": "0.6.0"
  }
 },
 "nbformat": 4,
 "nbformat_minor": 2
}

{
 "cells": [
  {
   "cell_type": "markdown",
   "metadata": {},
   "source": [
    "# Mixture Modeling\n",
    "\n",
    "finding separate distributions in combined data. This algorihtm is called Expectation Maximization (EM)."
   ]
  },
  {
   "cell_type": "markdown",
   "metadata": {},
   "source": [
    "##### First, create some data in a single vector that in reality comes from two different distributions. The parameter true μ and true σ² of these distributions are in practice unknown. We only have the data x."
   ]
  },
  {
   "cell_type": "code",
   "execution_count": 1,
   "metadata": {
    "collapsed": false
   },
   "outputs": [],
   "source": [
    "true_μ = [-0.6 0.7]\n",
    "true_σ² = [0.5^2 0.2^2]\n",
    "x=[true_μ[1]+randn(1000,1)*sqrt(true_σ²[1]); true_μ[2]+randn(1000,1)*sqrt(true_σ²[2])];"
   ]
  },
  {
   "cell_type": "markdown",
   "metadata": {},
   "source": [
    "##### Next, Initialize parameters for some distributions. These parameters will be adjusted to fit the true distribution parameters. Since we are going to model a joint distribution, we need a relative size (a for area) of each distribution aswell."
   ]
  },
  {
   "cell_type": "code",
   "execution_count": 2,
   "metadata": {
    "collapsed": false
   },
   "outputs": [],
   "source": [
    "μ = [-0.01 0.01]\n",
    "σ² = [0.2^2 0.2^2]\n",
    "a = [0.5 0.5];"
   ]
  },
  {
   "cell_type": "markdown",
   "metadata": {},
   "source": [
    "##### These are the functions we need for the EM algorihtm. The probability density function, a function for calculating the likelihood of the data under the model, and a function for estimating better parameters. And lastly, the EM algorithm itself."
   ]
  },
  {
   "cell_type": "code",
   "execution_count": 3,
   "metadata": {
    "collapsed": false
   },
   "outputs": [
    {
     "data": {
      "text/plain": [
       "EM (generic function with 1 method)"
      ]
     },
     "execution_count": 3,
     "metadata": {},
     "output_type": "execute_result"
    }
   ],
   "source": [
    "function pdf(x, μ, σ²)\n",
    "    #\n",
    "    return (σ²*2*π)^(-0.5) * exp(-((x-μ)^2)/(2*σ²))\n",
    "end\n",
    "\n",
    "function likelihood(x, a, μ, σ²)\n",
    "    p = [a[c]*[pdf(x[i], μ[c], σ²[c]) for i=1:length(x)] for c=1:length(a)]\n",
    "    r = hcat(p...)\n",
    "    r = r./sum(r,2)\n",
    "    return r\n",
    "end\n",
    "\n",
    "function dist_estimate(x, r)\n",
    "    ac = mean(r,1)\n",
    "    μc = sum(r.*x,1) ./ sum(r,1)\n",
    "    σ²c = sum(r.*(x.-μc).*(x.-μc),1) ./ sum(r,1)\n",
    "    return ac, μc, σ²c\n",
    "end\n",
    "\n",
    "function EM(a, μ, σ², x, Nsteps)\n",
    "    for n=1:Nsteps\n",
    "        r = likelihood(x, a, μ, σ²) # (E)xpectation\n",
    "        a, μ, σ² = dist_estimate(x, r) # (M)aximize\n",
    "    end\n",
    "    return a, μ, σ²\n",
    "end"
   ]
  },
  {
   "cell_type": "markdown",
   "metadata": {},
   "source": [
    "##### Now we can adjust the bad distribution parameters (that we already initialized) to fit the true (unknown) distribution parameters of the data x"
   ]
  },
  {
   "cell_type": "code",
   "execution_count": 4,
   "metadata": {
    "collapsed": false
   },
   "outputs": [
    {
     "name": "stdout",
     "output_type": "stream",
     "text": [
      "The algorihtm estimated these parameters\n",
      "μ = [-0.599 0.699]\n",
      "σ² = [0.278 0.039]\n",
      "\n",
      "The true (unknown to the algorihtm) parameters were\n",
      "true_μ = [-0.6 0.7]\n",
      "true_σ² = [0.25 0.04]\n"
     ]
    }
   ],
   "source": [
    "a, μ, σ² = EM(a, μ, σ², x, 500)\n",
    "\n",
    "println(\"The algorihtm estimated these parameters\")\n",
    "println(\"μ = \",round.(μ,3))\n",
    "println(\"σ² = \",round.(σ²,3))\n",
    "\n",
    "println(\"\\nThe true (unknown to the algorihtm) parameters were\")\n",
    "println(\"true_μ = \",round.(true_μ,3))\n",
    "println(\"true_σ² = \",round.(true_σ²,3))"
   ]
  },
  {
   "cell_type": "markdown",
   "metadata": {},
   "source": [
    "##### Its straightforward to estimate how likely a data point is to come from either distribution"
   ]
  },
  {
   "cell_type": "code",
   "execution_count": 5,
   "metadata": {
    "collapsed": false
   },
   "outputs": [
    {
     "name": "stdout",
     "output_type": "stream",
     "text": [
      "likelihood that the value 0.5 belongs to\n",
      "cluster 1: 6.9%\n",
      "cluster 2: 93.1%\n",
      "\n",
      "likelihood that the value 0.2 belongs to\n",
      "cluster 1: 75.3%\n",
      "cluster 2: 24.7%\n",
      "\n",
      "likelihood that the value -1.0 belongs to\n",
      "cluster 1: 100.0%\n",
      "cluster 2: 0.0%\n",
      "\n"
     ]
    }
   ],
   "source": [
    "function print_likelihood(x, a, μ, σ²)\n",
    "    r = likelihood(x, a, μ, σ²)\n",
    "    println(\"likelihood that the value \",x,\" belongs to\")\n",
    "    println(\"cluster 1: \",round.(r[1]*100,1),\"%\")\n",
    "    println(\"cluster 2: \",round.(r[2]*100,1),\"%\\n\")\n",
    "end\n",
    "\n",
    "print_likelihood(0.5, a, μ, σ²)\n",
    "print_likelihood(0.2, a, μ, σ²)\n",
    "print_likelihood(-1.0, a, μ, σ²)"
   ]
  },
  {
   "cell_type": "markdown",
   "metadata": {},
   "source": [
    "## What does EM do? (visualization)"
   ]
  },
  {
   "cell_type": "code",
   "execution_count": 6,
   "metadata": {
    "collapsed": false
   },
   "outputs": [],
   "source": [
    "using Plots; gr() #plotting backend\n",
    "\n",
    "#reset parameters for visualization\n",
    "μ = [-0.01 0.01]\n",
    "σ² = [0.2^2 0.2^2]\n",
    "a = [0.5 0.5]\n",
    "\n",
    "function visualize_EM(a, μ, σ², x, Nsteps)\n",
    "    @gif for n=1:Nsteps\n",
    "        r = likelihood(x, a, μ, σ²) # (E)xpectation\n",
    "        \n",
    "        # adjust the parameters slowly for purpose of visualization\n",
    "        ac, μc, σ²c = dist_estimate(x, r)\n",
    "        a = 0.95*a + 0.05*ac\n",
    "        μ = 0.95*μ + 0.05*μc\n",
    "        σ² = 0.95*σ² + 0.05*σ²c\n",
    "        \n",
    "        # visualize\n",
    "        plotx=collect(-2.5:0.01:2.5)\n",
    "        dist1 = a[1]*[pdf(plotx[i], μ[1], σ²[1]) for i=1:length(plotx)];\n",
    "        dist2 = a[2]*[pdf(plotx[i], μ[2], σ²[2]) for i=1:length(plotx)];\n",
    "        plot(plotx, [dist1 dist2], ylim=(0,1), xlim=(-3,3), title=\"mixture modeling of 2 gaussians\", leg=false)\n",
    "    end every 1\n",
    "    return a, μ, σ²\n",
    "end\n",
    "\n",
    "a, μ, σ² = visualize_EM(a, μ, σ², x, 200)"
   ]
  },
  {
   "cell_type": "markdown",
   "metadata": {},
   "source": [
    "<img src=\"tmp.gif\">"
   ]
  }
 ],
 "metadata": {
  "kernelspec": {
   "display_name": "Julia 0.6.0",
   "language": "julia",
   "name": "julia-0.6"
  },
  "language_info": {
   "file_extension": ".jl",
   "mimetype": "application/julia",
   "name": "julia",
   "version": "0.6.0"
  }
 },
 "nbformat": 4,
 "nbformat_minor": 2
}

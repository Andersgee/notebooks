{
 "cells": [
  {
   "cell_type": "markdown",
   "metadata": {
    "collapsed": false
   },
   "source": [
    "<h1>Bernoulli Mixture Density Net</h1>\n",
    "A neural network trained to output the parameters of a Multivariate Bernoulli Mixture Model"
   ]
  },
  {
   "cell_type": "code",
   "execution_count": 1,
   "metadata": {
    "collapsed": false
   },
   "outputs": [
    {
     "data": {
      "text/plain": [
       "print_mapping (generic function with 1 method)"
      ]
     },
     "execution_count": 1,
     "metadata": {},
     "output_type": "execute_result"
    }
   ],
   "source": [
    "include(\"../toy_ffnet.jl\") # module nn\n",
    "\n",
    "pdf_bernoulli(p,t) = p^t * (1-p)^(1-t)\n",
    "\n",
    "function EM_bernoulli(t, m,μ)\n",
    "    P=size(t,1)\n",
    "    N=size(t,2)\n",
    "    G=length(m)\n",
    "    \n",
    "    τ=zeros(N,G)\n",
    "    for g=1:G, n=1:N; τ[n,g] = m[g] * prod([pdf_bernoulli(μ[p,g], t[p,n]) for p=1:P]); end\n",
    "    τ = τ./sum(τ,2)\n",
    "    \n",
    "    T1 = sum(τ,1)\n",
    "    T2 = t*τ\n",
    "    m_new = T1./N\n",
    "    μ_new = T2./T1\n",
    "    return m_new', μ_new\n",
    "end\n",
    "\n",
    "function ∇mixturemodel!(∇z, z,t, P,G,bsz)   \n",
    "    for b=1:bsz\n",
    "        m=nn.softmax(z[1:G,b])\n",
    "        μ=nn.sigm(z[G+1:end,b]); μ=reshape(μ, P,G)\n",
    "        m_new, μ_new = EM_bernoulli(t, m,μ)\n",
    "        \n",
    "        ∇zm = m - m_new\n",
    "        ∇zμ = (μ - μ_new).*m_new'\n",
    "        \n",
    "        ∇z[2][:,b] = vcat(∇zm[:],∇zμ[:])\n",
    "    end\n",
    "end\n",
    "\n",
    "function some_data(P,N)\n",
    "    #create some patterns\n",
    "    n=Int(N/6)\n",
    "    x1=[1,0,0,0,0] * ones(n)'\n",
    "    x2=[1,0,0,0,0] * ones(n)'\n",
    "    \n",
    "    x3=[0,1,0,0,0] * ones(n)'\n",
    "    x4=[0,1,0,0,0] * ones(n)'\n",
    "    \n",
    "    x5=[0,0,1,0,0] * ones(n)'\n",
    "    x6=[0,0,1,0,0] * ones(n)'\n",
    "    \n",
    "    t1=[1,1,0,0,0] * ones(n)'\n",
    "    t2=[0,0,1,1,0] * ones(n)'\n",
    "    \n",
    "    t3=[1,1,0,0,0] * ones(n)'\n",
    "    t4=[0,1,1,0,0] * ones(n)'\n",
    "    \n",
    "    t5=[1,1,1,0,0] * ones(n)'\n",
    "    t6=[0,0,1,1,1] * ones(n)'\n",
    "    \n",
    "    x=hcat(x1,x2,x3,x4,x5,x6)\n",
    "    t=hcat(t1,t2,t3,t4,t5,t6)\n",
    "    return x, t\n",
    "end\n",
    "\n",
    "function print_mapping(xeval, m,μ)\n",
    "    S=size(xeval,2)\n",
    "    G=size(m,1)\n",
    "    for s=1:S\n",
    "        println(\"input\")\n",
    "        println(s,\": \",xeval[:,s])\n",
    "        println(\"maps to\")\n",
    "        μs=round.(reshape(μ[:,s], P,G),1)\n",
    "        [println(g,\": \",round.(m[g,s],1), \" * \",μs[:,g]) for g=1:G];\n",
    "        println()\n",
    "    end\n",
    "end"
   ]
  },
  {
   "cell_type": "code",
   "execution_count": 2,
   "metadata": {
    "collapsed": false
   },
   "outputs": [
    {
     "name": "stdout",
     "output_type": "stream",
     "text": [
      "input\n",
      "1: [1.0, 0.0, 0.0, 0.0, 0.0]\n",
      "maps to\n",
      "1: 0.5 * [0.0, 0.0, 1.0, 1.0, 0.0]\n",
      "2: 0.5 * [1.0, 1.0, 0.0, 0.0, 0.0]\n",
      "\n",
      "input\n",
      "2: [0.0, 1.0, 0.0, 0.0, 0.0]\n",
      "maps to\n",
      "1: 0.0 * [0.0, 0.0, 1.0, 1.0, 0.9]\n",
      "2: 1.0 * [0.5, 1.0, 0.5, 0.0, 0.0]\n",
      "\n",
      "input\n",
      "3: [0.0, 0.0, 1.0, 0.0, 0.0]\n",
      "maps to\n",
      "1: 0.5 * [0.0, 0.0, 1.0, 1.0, 1.0]\n",
      "2: 0.5 * [1.0, 1.0, 1.0, 0.0, 0.0]\n",
      "\n"
     ]
    }
   ],
   "source": [
    "function trainMDN(P,G)\n",
    "    N=600\n",
    "    Lw=[P,20, G+P*G] #m,μ\n",
    "    bsz=1\n",
    "    x,t = some_data(P,N)\n",
    "\n",
    "    W,b,z,y, ∇W,∇b,∇z,∇y = nn.preallocate(Lw, bsz)\n",
    "\n",
    "    for epoch=1:1000\n",
    "        idx=randperm(size(x,2))\n",
    "\n",
    "        for n=1:bsz:size(x,2)-bsz+1\n",
    "            bidx=idx[n:n+bsz-1]\n",
    "            xb=x[:,bidx]\n",
    "            tb=t[:,bidx]\n",
    "            nn.fprop!(xb, W,b,z,y)\n",
    "            ∇mixturemodel!(∇z, y[2],tb, P,G,bsz)\n",
    "            nn.bprop!(∇W,∇z,∇y, W,xb,y)\n",
    "            nn.adjust!(W,b, ∇W,∇z, 0.0001)\n",
    "        end\n",
    "    end\n",
    "    return W,b\n",
    "end\n",
    "\n",
    "P=5\n",
    "G=2\n",
    "W,b = trainMDN(P,G);\n",
    "\n",
    "xeval,_ = some_data(P,6)\n",
    "xeval=xeval[:,1:2:end]\n",
    "Y=nn.inference(xeval,W,b);\n",
    "\n",
    "m=nn.softmax(Y[1:G,:])\n",
    "μ=nn.sigm(Y[G+1:end,:]);\n",
    "\n",
    "print_mapping(xeval, m,μ)"
   ]
  },
  {
   "cell_type": "markdown",
   "metadata": {},
   "source": [
    "<h3>some notes:</h3>\n",
    "use bsz=1, otherwise the components seems to prefer not to specialize\n",
    "\n",
    "<p>a single input x=[1,0,0,0,0] can map to several targets.\n",
    "<p>if targets are [1,1,0,0,0] and [0,0,1,1,0] it maps to those components 0.5 x [1,1,0,0,0], 0.5 x [0,0,1,1,0]\n",
    "<p>but if targets are [1,1,0,0,0] and [0,1,1,0,0] (shares a 1 in element 2)\n",
    "<p>it sometimes maps to the desired 0.5 x [1,1,0,0,0], 0.5 x [0,0,1,1,0] \n",
    "<p>but often it maps to the less desirable 1.0 x [0.5,1,0.5,0,0]\n",
    "\n",
    "//Anders"
   ]
  }
 ],
 "metadata": {
  "kernelspec": {
   "display_name": "Julia 0.6.0",
   "language": "julia",
   "name": "julia-0.6"
  },
  "language_info": {
   "file_extension": ".jl",
   "mimetype": "application/julia",
   "name": "julia",
   "version": "0.6.0"
  }
 },
 "nbformat": 4,
 "nbformat_minor": 2
}
